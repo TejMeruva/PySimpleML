{
 "cells": [
  {
   "cell_type": "markdown",
   "id": "32862761",
   "metadata": {},
   "source": [
    "#### Importing Libs"
   ]
  },
  {
   "cell_type": "code",
   "execution_count": 1,
   "id": "8dcdafb1",
   "metadata": {},
   "outputs": [],
   "source": [
    "import pandas as pd\n",
    "import matplotlib.pyplot as plt"
   ]
  },
  {
   "cell_type": "markdown",
   "id": "f0f2ab4f",
   "metadata": {},
   "source": [
    "#### Getting Data"
   ]
  },
  {
   "cell_type": "code",
   "execution_count": 2,
   "id": "9d309972",
   "metadata": {},
   "outputs": [
    {
     "data": {
      "text/html": [
       "<div>\n",
       "<style scoped>\n",
       "    .dataframe tbody tr th:only-of-type {\n",
       "        vertical-align: middle;\n",
       "    }\n",
       "\n",
       "    .dataframe tbody tr th {\n",
       "        vertical-align: top;\n",
       "    }\n",
       "\n",
       "    .dataframe thead th {\n",
       "        text-align: right;\n",
       "    }\n",
       "</style>\n",
       "<table border=\"1\" class=\"dataframe\">\n",
       "  <thead>\n",
       "    <tr style=\"text-align: right;\">\n",
       "      <th></th>\n",
       "      <th>Median_House_Value</th>\n",
       "      <th>Median_Income</th>\n",
       "      <th>Median_Age</th>\n",
       "      <th>Tot_Rooms</th>\n",
       "      <th>Tot_Bedrooms</th>\n",
       "      <th>Population</th>\n",
       "      <th>Households</th>\n",
       "      <th>Latitude</th>\n",
       "      <th>Longitude</th>\n",
       "      <th>Distance_to_coast</th>\n",
       "      <th>Distance_to_LA</th>\n",
       "      <th>Distance_to_SanDiego</th>\n",
       "      <th>Distance_to_SanJose</th>\n",
       "      <th>Distance_to_SanFrancisco</th>\n",
       "    </tr>\n",
       "  </thead>\n",
       "  <tbody>\n",
       "    <tr>\n",
       "      <th>0</th>\n",
       "      <td>452600.0</td>\n",
       "      <td>8.3252</td>\n",
       "      <td>41</td>\n",
       "      <td>880</td>\n",
       "      <td>129</td>\n",
       "      <td>322</td>\n",
       "      <td>126</td>\n",
       "      <td>37.88</td>\n",
       "      <td>-122.23</td>\n",
       "      <td>9263.040773</td>\n",
       "      <td>556529.1583</td>\n",
       "      <td>735501.8070</td>\n",
       "      <td>67432.51700</td>\n",
       "      <td>21250.21377</td>\n",
       "    </tr>\n",
       "    <tr>\n",
       "      <th>1</th>\n",
       "      <td>358500.0</td>\n",
       "      <td>8.3014</td>\n",
       "      <td>21</td>\n",
       "      <td>7099</td>\n",
       "      <td>1106</td>\n",
       "      <td>2401</td>\n",
       "      <td>1138</td>\n",
       "      <td>37.86</td>\n",
       "      <td>-122.22</td>\n",
       "      <td>10225.733070</td>\n",
       "      <td>554279.8501</td>\n",
       "      <td>733236.8844</td>\n",
       "      <td>65049.90857</td>\n",
       "      <td>20880.60040</td>\n",
       "    </tr>\n",
       "    <tr>\n",
       "      <th>2</th>\n",
       "      <td>352100.0</td>\n",
       "      <td>7.2574</td>\n",
       "      <td>52</td>\n",
       "      <td>1467</td>\n",
       "      <td>190</td>\n",
       "      <td>496</td>\n",
       "      <td>177</td>\n",
       "      <td>37.85</td>\n",
       "      <td>-122.24</td>\n",
       "      <td>8259.085109</td>\n",
       "      <td>554610.7171</td>\n",
       "      <td>733525.6829</td>\n",
       "      <td>64867.28983</td>\n",
       "      <td>18811.48745</td>\n",
       "    </tr>\n",
       "    <tr>\n",
       "      <th>3</th>\n",
       "      <td>341300.0</td>\n",
       "      <td>5.6431</td>\n",
       "      <td>52</td>\n",
       "      <td>1274</td>\n",
       "      <td>235</td>\n",
       "      <td>558</td>\n",
       "      <td>219</td>\n",
       "      <td>37.85</td>\n",
       "      <td>-122.25</td>\n",
       "      <td>7768.086571</td>\n",
       "      <td>555194.2661</td>\n",
       "      <td>734095.2907</td>\n",
       "      <td>65287.13841</td>\n",
       "      <td>18031.04757</td>\n",
       "    </tr>\n",
       "    <tr>\n",
       "      <th>4</th>\n",
       "      <td>342200.0</td>\n",
       "      <td>3.8462</td>\n",
       "      <td>52</td>\n",
       "      <td>1627</td>\n",
       "      <td>280</td>\n",
       "      <td>565</td>\n",
       "      <td>259</td>\n",
       "      <td>37.85</td>\n",
       "      <td>-122.25</td>\n",
       "      <td>7768.086571</td>\n",
       "      <td>555194.2661</td>\n",
       "      <td>734095.2907</td>\n",
       "      <td>65287.13841</td>\n",
       "      <td>18031.04757</td>\n",
       "    </tr>\n",
       "  </tbody>\n",
       "</table>\n",
       "</div>"
      ],
      "text/plain": [
       "   Median_House_Value  Median_Income  Median_Age  Tot_Rooms  Tot_Bedrooms  \\\n",
       "0            452600.0         8.3252          41        880           129   \n",
       "1            358500.0         8.3014          21       7099          1106   \n",
       "2            352100.0         7.2574          52       1467           190   \n",
       "3            341300.0         5.6431          52       1274           235   \n",
       "4            342200.0         3.8462          52       1627           280   \n",
       "\n",
       "   Population  Households  Latitude  Longitude  Distance_to_coast  \\\n",
       "0         322         126     37.88    -122.23        9263.040773   \n",
       "1        2401        1138     37.86    -122.22       10225.733070   \n",
       "2         496         177     37.85    -122.24        8259.085109   \n",
       "3         558         219     37.85    -122.25        7768.086571   \n",
       "4         565         259     37.85    -122.25        7768.086571   \n",
       "\n",
       "   Distance_to_LA  Distance_to_SanDiego  Distance_to_SanJose  \\\n",
       "0     556529.1583           735501.8070          67432.51700   \n",
       "1     554279.8501           733236.8844          65049.90857   \n",
       "2     554610.7171           733525.6829          64867.28983   \n",
       "3     555194.2661           734095.2907          65287.13841   \n",
       "4     555194.2661           734095.2907          65287.13841   \n",
       "\n",
       "   Distance_to_SanFrancisco  \n",
       "0               21250.21377  \n",
       "1               20880.60040  \n",
       "2               18811.48745  \n",
       "3               18031.04757  \n",
       "4               18031.04757  "
      ]
     },
     "execution_count": 2,
     "metadata": {},
     "output_type": "execute_result"
    }
   ],
   "source": [
    "data = pd.read_csv('/Users/msreeramulu/SWD/Python/PySimpleML/Examples/data/Houses.csv')\n",
    "data.head()"
   ]
  },
  {
   "cell_type": "code",
   "execution_count": 3,
   "id": "05620c40",
   "metadata": {},
   "outputs": [],
   "source": [
    "dataShuff = data.sample(frac=1)\n",
    "trainData = data.iloc[:20000, :] #using only 10k rows out of~20000\n",
    "testData = data.iloc[20000:, :]\n",
    "XTrain = trainData.iloc[:, 1:]\n",
    "yTrain = trainData.iloc[:, [0]]\n",
    "XTest = testData.iloc[:, 1:]\n",
    "yTest = testData.iloc[:, [0]]"
   ]
  },
  {
   "cell_type": "markdown",
   "id": "721a669d",
   "metadata": {},
   "source": [
    "#### Training"
   ]
  },
  {
   "cell_type": "code",
   "execution_count": 4,
   "id": "64f6332b",
   "metadata": {},
   "outputs": [
    {
     "name": "stdout",
     "output_type": "stream",
     "text": [
      "Package                 Version     Editable project location\n",
      "----------------------- ----------- ----------------------------------------\n",
      "appnope                 0.1.4\n",
      "asttokens               3.0.0\n",
      "comm                    0.2.3\n",
      "contourpy               1.3.3\n",
      "cycler                  0.12.1\n",
      "debugpy                 1.8.16\n",
      "decorator               5.2.1\n",
      "et_xmlfile              2.0.0\n",
      "executing               2.2.0\n",
      "fonttools               4.59.1\n",
      "ipykernel               6.30.1\n",
      "ipython                 9.4.0\n",
      "ipython_pygments_lexers 1.1.1\n",
      "jedi                    0.19.2\n",
      "jupyter_client          8.6.3\n",
      "jupyter_core            5.8.1\n",
      "kiwisolver              1.4.9\n",
      "matplotlib              3.10.5\n",
      "matplotlib-inline       0.1.7\n",
      "nest-asyncio            1.6.0\n",
      "numpy                   2.3.2\n",
      "openpyxl                3.1.5\n",
      "packaging               25.0\n",
      "pandas                  2.3.1\n",
      "parso                   0.8.4\n",
      "pexpect                 4.9.0\n",
      "pillow                  11.3.0\n",
      "pip                     25.2\n",
      "platformdirs            4.3.8\n",
      "prompt_toolkit          3.0.51\n",
      "psutil                  7.0.0\n",
      "ptyprocess              0.7.0\n",
      "pure_eval               0.2.3\n",
      "Pygments                2.19.2\n",
      "pyparsing               3.2.3\n",
      "PySimpleML              1.0.0       /Users/msreeramulu/SWD/Python/PySimpleML\n",
      "python-dateutil         2.9.0.post0\n",
      "pytz                    2025.2\n",
      "pyzmq                   27.0.1\n",
      "setuptools              80.9.0\n",
      "six                     1.17.0\n",
      "stack-data              0.6.3\n",
      "tornado                 6.5.2\n",
      "traitlets               5.14.3\n",
      "tzdata                  2025.2\n",
      "wcwidth                 0.2.13\n",
      "wheel                   0.45.1\n"
     ]
    }
   ],
   "source": [
    "!pip list"
   ]
  },
  {
   "cell_type": "code",
   "execution_count": 5,
   "id": "1a094129",
   "metadata": {},
   "outputs": [
    {
     "name": "stdout",
     "output_type": "stream",
     "text": [
      "Done Training\n"
     ]
    }
   ],
   "source": [
    "from PySimpleML.models.ANN import NeuralNetwork\n",
    "houseNN = NeuralNetwork(10, 10, task=0)\n",
    "houseNN.train(XTrain, yTrain, 0.01, 10)"
   ]
  },
  {
   "cell_type": "markdown",
   "id": "b0583be4",
   "metadata": {},
   "source": [
    "#### Model Evaluation"
   ]
  },
  {
   "cell_type": "code",
   "execution_count": 6,
   "id": "f5f1e111",
   "metadata": {},
   "outputs": [
    {
     "name": "stdout",
     "output_type": "stream",
     "text": [
      "R2 Score: 0.5772629829313607\n"
     ]
    }
   ],
   "source": [
    "from PySimpleML.scores import R2Score\n",
    "pred = houseNN.predict(XTest)\n",
    "print(f'R2 Score: {R2Score(pred, yTest)}')"
   ]
  },
  {
   "cell_type": "markdown",
   "id": "ccffd5ab",
   "metadata": {},
   "source": [
    "#### Plotting"
   ]
  },
  {
   "cell_type": "code",
   "execution_count": 7,
   "id": "28e93ae7",
   "metadata": {},
   "outputs": [
    {
     "ename": "NameError",
     "evalue": "name 'op' is not defined",
     "output_type": "error",
     "traceback": [
      "\u001b[31m---------------------------------------------------------------------------\u001b[39m",
      "\u001b[31mNameError\u001b[39m                                 Traceback (most recent call last)",
      "\u001b[36mCell\u001b[39m\u001b[36m \u001b[39m\u001b[32mIn[7]\u001b[39m\u001b[32m, line 3\u001b[39m\n\u001b[32m      1\u001b[39m \u001b[38;5;66;03m# plt.scatter(XTrain['Median_Income'], yTrain, c='r', alpha=0.15)\u001b[39;00m\n\u001b[32m      2\u001b[39m plt.scatter(XTest[\u001b[33m'\u001b[39m\u001b[33mMedian_Income\u001b[39m\u001b[33m'\u001b[39m], yTest, c=\u001b[33m'\u001b[39m\u001b[33mr\u001b[39m\u001b[33m'\u001b[39m, label=\u001b[33m'\u001b[39m\u001b[33mTrue\u001b[39m\u001b[33m'\u001b[39m, alpha=\u001b[32m0.5\u001b[39m, marker=\u001b[33m'\u001b[39m\u001b[33mx\u001b[39m\u001b[33m'\u001b[39m)\n\u001b[32m----> \u001b[39m\u001b[32m3\u001b[39m plt.scatter(\u001b[43mop\u001b[49m[\u001b[33m'\u001b[39m\u001b[33mMedian_Income\u001b[39m\u001b[33m'\u001b[39m], op[\u001b[33m'\u001b[39m\u001b[33mMedian_House_ValuePred\u001b[39m\u001b[33m'\u001b[39m], c=\u001b[33m'\u001b[39m\u001b[33mb\u001b[39m\u001b[33m'\u001b[39m, label=\u001b[33m'\u001b[39m\u001b[33mPredicted\u001b[39m\u001b[33m'\u001b[39m, alpha=\u001b[32m0.2\u001b[39m)\n\u001b[32m      4\u001b[39m plt.xlabel(\u001b[33m'\u001b[39m\u001b[33mMedian_Income\u001b[39m\u001b[33m'\u001b[39m)\n\u001b[32m      5\u001b[39m plt.ylabel(\u001b[33m'\u001b[39m\u001b[33mMedian_House_Value\u001b[39m\u001b[33m'\u001b[39m)\n",
      "\u001b[31mNameError\u001b[39m: name 'op' is not defined"
     ]
    },
    {
     "data": {
      "image/png": "[encoded data removed]",
      "text/plain": [
       "<Figure size 640x480 with 1 Axes>"
      ]
     },
     "metadata": {},
     "output_type": "display_data"
    }
   ],
   "source": [
    "# plt.scatter(XTrain['Median_Income'], yTrain, c='r', alpha=0.15)\n",
    "plt.scatter(XTest['Median_Income'], yTest, c='r', label='True', alpha=0.5, marker='x')\n",
    "plt.scatter(op['Median_Income'], op['Median_House_ValuePred'], c='b', label='Predicted', alpha=0.2)\n",
    "plt.xlabel('Median_Income')\n",
    "plt.ylabel('Median_House_Value')\n",
    "plt.legend()\n",
    "plt.show()"
   ]
  },
  {
   "cell_type": "code",
   "execution_count": 71,
   "id": "0baed4e6",
   "metadata": {},
   "outputs": [
    {
     "data": {
      "text/plain": [
       "<Figure size 640x480 with 0 Axes>"
      ]
     },
     "metadata": {},
     "output_type": "display_data"
    }
   ],
   "source": [
    "plt.savefig('Plot')"
   ]
  },
  {
   "cell_type": "code",
   "execution_count": null,
   "id": "fa07beb2",
   "metadata": {},
   "outputs": [],
   "source": []
  }
 ],
 "metadata": {
  "kernelspec": {
   "display_name": "venv",
   "language": "python",
   "name": "python3"
  },
  "language_info": {
   "codemirror_mode": {
    "name": "ipython",
    "version": 3
   },
   "file_extension": ".py",
   "mimetype": "text/x-python",
   "name": "python",
   "nbconvert_exporter": "python",
   "pygments_lexer": "ipython3",
   "version": "3.13.6"
  }
 },
 "nbformat": 4,
 "nbformat_minor": 5
}
